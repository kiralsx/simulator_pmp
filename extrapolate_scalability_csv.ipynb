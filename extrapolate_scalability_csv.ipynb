{
 "cells": [
  {
   "cell_type": "code",
   "execution_count": 1,
   "metadata": {},
   "outputs": [],
   "source": [
    "from applications import APPLICATIONS\n",
    "from goodput import _predict_accum_time, _predict_log_optim_time, _predict_network_time, fit_perf_params\n",
    "import numpy as np\n",
    "import pandas as pd\n",
    "import os\n",
    "from matplotlib import pyplot as plt\n",
    "from pylab import rcParams\n",
    "rcParams['figure.figsize'] = 5, 5"
   ]
  },
  {
   "cell_type": "code",
   "execution_count": 2,
   "metadata": {},
   "outputs": [],
   "source": [
    "cluster_name=\"aws\"\n",
    "app_name=\"deepspeech2\"\n",
    "output_scalability_csv = os.path.join(\"../traces/\", app_name, f\"scalability-e{cluster_name}.csv\")\n",
    "output_placements_csv = os.path.join(\"../traces/\", app_name, f\"placements-e{cluster_name}.csv\")"
   ]
  },
  {
   "cell_type": "code",
   "execution_count": 3,
   "metadata": {},
   "outputs": [],
   "source": [
    "app = APPLICATIONS[cluster_name][app_name]"
   ]
  },
  {
   "cell_type": "code",
   "execution_count": 4,
   "metadata": {},
   "outputs": [],
   "source": [
    "df = app.scalability\n",
    "num_nodes = df.num_nodes.to_numpy()\n",
    "num_replicas = df.num_replicas.to_numpy()\n",
    "local_bsz = df.local_bsz.to_numpy()\n",
    "sync_time = df.sync_time.to_numpy()\n",
    "compute_time = (df.step_time - df.sync_time).to_numpy()\n",
    "step_time = df.step_time.to_numpy()\n",
    "\n",
    "perf_params = fit_perf_params(num_nodes, num_replicas, local_bsz, compute_time, step_time)"
   ]
  },
  {
   "cell_type": "code",
   "execution_count": 5,
   "metadata": {},
   "outputs": [],
   "source": [
    "def predict_step_sync_time(perf_params, num_nodes, num_replicas, local_bsz):\n",
    "  pred_compute_time = _predict_accum_time(perf_params, local_bsz)\n",
    "  pred_network = _predict_network_time(perf_params, num_nodes, num_replicas)\n",
    "  pred_step_time = np.exp(_predict_log_optim_time(perf_params, pred_compute_time, pred_network))\n",
    "  pred_sync_time = pred_step_time - pred_compute_time\n",
    "  return pred_step_time, pred_sync_time"
   ]
  },
  {
   "cell_type": "code",
   "execution_count": 6,
   "metadata": {},
   "outputs": [
    {
     "name": "stdout",
     "output_type": "stream",
     "text": [
      "step_time prediction: mean prediction error : 7.39724578868789%, variance: 5.9198045707083775%\n",
      "sync_time prediction: mean prediction error : 25.278804316227333%, variance: 24.476013052819333%\n"
     ]
    }
   ],
   "source": [
    "pred_step_time, pred_sync_time = predict_step_sync_time(perf_params, num_nodes, num_replicas, local_bsz)\n",
    "pred_step_error = np.abs(pred_step_time - step_time) / step_time\n",
    "print(f\"step_time prediction: mean prediction error : {np.mean(pred_step_error)*100}%, variance: {np.std(pred_step_error)*100}%\")\n",
    "\n",
    "pred_sync_error = np.abs(pred_sync_time - sync_time) / sync_time\n",
    "print(f\"sync_time prediction: mean prediction error : {np.mean(pred_sync_error)*100}%, variance: {np.std(pred_sync_error)*100}%\")"
   ]
  },
  {
   "cell_type": "code",
   "execution_count": 7,
   "metadata": {},
   "outputs": [
    {
     "name": "stdout",
     "output_type": "stream",
     "text": [
      "(1722,)\n",
      "(1722,)\n",
      "(1722,)\n"
     ]
    }
   ],
   "source": [
    "start_num_nodes, end_num_nodes = 2, 16\n",
    "start_num_replicas, end_num_replicas = 2, 128\n",
    "col_names = df.columns\n",
    "output_df = pd.DataFrame(columns=col_names)\n",
    "ngpus_per_node = 8\n",
    "local_bsz = list(df.local_bsz.unique())\n",
    "\n",
    "# generate num_nodes, num_replicas\n",
    "new_num_nodes, new_num_replicas, new_local_bsz = [] , [], []\n",
    "for nnodes in range(start_num_nodes, end_num_nodes + 1):\n",
    "  config_ngpus = []\n",
    "  ngpus = nnodes * 1\n",
    "  while ngpus < nnodes * ngpus_per_node + 1:\n",
    "    new_num_nodes.extend([nnodes] * len(local_bsz))\n",
    "    new_num_replicas.extend([ngpus] * len(local_bsz))\n",
    "    new_local_bsz.extend(local_bsz)\n",
    "    ngpus += 4\n",
    "new_num_nodes = np.asarray(new_num_nodes)\n",
    "new_num_replicas = np.asarray(new_num_replicas)\n",
    "new_local_bsz = np.asarray(new_local_bsz)\n",
    "print(new_num_nodes.shape)\n",
    "print(new_num_replicas.shape)\n",
    "print(new_local_bsz.shape)\n"
   ]
  },
  {
   "cell_type": "code",
   "execution_count": 8,
   "metadata": {},
   "outputs": [],
   "source": [
    "# populate output_df\n",
    "pred_step_time, pred_sync_time = predict_step_sync_time(perf_params, new_num_nodes, new_num_replicas, new_local_bsz)\n",
    "output_dict = {\n",
    "  \"local_bsz\" : new_local_bsz,\n",
    "  \"num_nodes\" : new_num_nodes,\n",
    "  \"num_replicas\" : new_num_replicas,\n",
    "  \"step_time\" : pred_step_time,\n",
    "  \"sync_time\" : pred_sync_time\n",
    "}\n",
    "output_df = pd.DataFrame(output_dict)\n",
    "output_df.to_csv(output_scalability_csv, index=False)\n",
    "app.placements.to_csv(output_placements_csv, index=False)"
   ]
  },
  {
   "cell_type": "code",
   "execution_count": 9,
   "metadata": {},
   "outputs": [],
   "source": [
    "def get_performance_profiles(cluster_name, app_name, selector_bsize=None):\n",
    "  app = APPLICATIONS[cluster_name][app_name]\n",
    "  df = app.scalability\n",
    "  num_nodes = df.num_nodes.to_numpy()\n",
    "  num_replicas = df.num_replicas.to_numpy()\n",
    "  local_bsz = df.local_bsz.to_numpy()\n",
    "  sync_time = df.sync_time.to_numpy()\n",
    "  step_time = df.step_time.to_numpy()\n",
    "  # include placements.csv too\n",
    "  df = app.placements\n",
    "  def sum_digits(val):\n",
    "    return sum([int(v) for v in str(val)])\n",
    "  def num_digits(val):\n",
    "    return len(str(val))\n",
    "  p_num_nodes = np.vectorize(num_digits)(df.placement.to_numpy())\n",
    "  p_num_replicas = np.vectorize(sum_digits)(df.placement.to_numpy())\n",
    "  p_step_time = df.step_time.to_numpy()\n",
    "  p_local_bsz = df.local_bsz.to_numpy()\n",
    "  p_sync_time = df.sync_time.to_numpy()\n",
    "  \n",
    "  if True:\n",
    "    num_nodes = np.hstack((num_nodes, p_num_nodes))\n",
    "    num_replicas = np.hstack((num_replicas, p_num_replicas))\n",
    "    local_bsz = np.hstack((local_bsz, p_local_bsz))\n",
    "    step_time = np.hstack((step_time, p_step_time))\n",
    "    sync_time = np.hstack((sync_time, p_sync_time))\n",
    "\n",
    "  if selector_bsize is not None:\n",
    "    selector_vec = (local_bsz == selector_bsize)\n",
    "    num_nodes = num_nodes[selector_vec]\n",
    "    num_replicas = num_replicas[selector_vec]\n",
    "    local_bsz = local_bsz[selector_vec]\n",
    "    sync_time = sync_time[selector_vec]\n",
    "    step_time = step_time[selector_vec]\n",
    "  return num_nodes, num_replicas, local_bsz, step_time, sync_time\n",
    "\n",
    "def build_xput_model(num_nodes, num_replicas, atomic_bsz, step_time, sync_time):\n",
    "  compute_time = step_time - sync_time\n",
    "  perf_params = fit_perf_params(num_nodes, num_replicas, atomic_bsz, compute_time, step_time)\n",
    "  return perf_params\n",
    "\n",
    "def predict_xput_model(perf_params, num_nodes, num_replicas, atomic_bsz):\n",
    "  pred_t_grad = _predict_accum_time(perf_params, atomic_bsz)\n",
    "  pred_t_sync = _predict_network_time(perf_params, num_nodes, num_replicas)\n",
    "  pred_log_t_iter = _predict_log_optim_time(perf_params, pred_t_grad, pred_t_sync)\n",
    "  pred_t_iter = np.exp(pred_log_t_iter)\n",
    "  return pred_t_iter, pred_t_sync"
   ]
  },
  {
   "cell_type": "code",
   "execution_count": 10,
   "metadata": {},
   "outputs": [],
   "source": [
    "cluster_name, app_name = \"rtx\", \"deepspeech2\"\n",
    "selector_bsize = None\n",
    "num_nodes, num_replicas, local_bsz, step_time, sync_time = get_performance_profiles(cluster_name, app_name, selector_bsize)\n",
    "app_perf_params = build_xput_model(num_nodes, num_replicas, local_bsz, step_time, sync_time)\n",
    "pred_step_time, pred_sync_time = predict_xput_model(app_perf_params, num_nodes, num_replicas, local_bsz)\n",
    "pred_xput, xput = local_bsz / pred_step_time, local_bsz / step_time"
   ]
  },
  {
   "cell_type": "code",
   "execution_count": 11,
   "metadata": {},
   "outputs": [
    {
     "data": {
      "text/plain": [
       "<matplotlib.legend.Legend at 0x7f33245595e0>"
      ]
     },
     "execution_count": 11,
     "metadata": {},
     "output_type": "execute_result"
    },
    {
     "data": {
      "image/png": "[encoded data removed]",
      "text/plain": [
       "<Figure size 360x360 with 1 Axes>"
      ]
     },
     "metadata": {
      "needs_background": "light"
     },
     "output_type": "display_data"
    }
   ],
   "source": [
    "# compute error\n",
    "error_step_time, error_xput = (pred_step_time - step_time) / step_time, (pred_xput - xput) / xput\n",
    "plt.hist(error_step_time, bins=100)\n",
    "plt.hist(error_xput, bins=100)\n",
    "plt.legend(['step_time pred error', 'xput pred error'])"
   ]
  },
  {
   "cell_type": "code",
   "execution_count": 12,
   "metadata": {},
   "outputs": [],
   "source": [
    "def plot_single_config(cluster_name, app_name, pred_num_nodes, pred_num_replicas, atomic_bsz, output_figpath):\n",
    "  app = APPLICATIONS[cluster_name][app_name]\n",
    "  sc_df = app.scalability\n",
    "  pl_df = app.placements\n",
    "  pred_local_bsz = np.asarray([atomic_bsz] * len(pred_num_nodes))\n",
    "\n",
    "  num_nodes, num_replicas, local_bsz, step_time, sync_time = get_performance_profiles(cluster_name, app_name, selector_bsize)\n",
    "  app_perf_params = build_xput_model(num_nodes, num_replicas, local_bsz, step_time, sync_time)\n",
    "\n",
    "  max_num_nodes, max_num_replicas = np.max(num_nodes), np.max(num_replicas)\n",
    "  pred_num_nodes = pred_num_nodes[pred_num_nodes <= max_num_nodes]\n",
    "  pred_num_replicas = pred_num_replicas[pred_num_replicas <= max_num_replicas]\n",
    "\n",
    "  def lookup_placement(num_nodes, num_replicas, local_bsz):\n",
    "    num_replicas_per_node = int(num_replicas / num_nodes)\n",
    "    placement_id = int(\"\".join([str(num_replicas_per_node)]*num_nodes))\n",
    "    entry = pl_df.query(f'placement == {placement_id} & local_bsz == {local_bsz}')\n",
    "    # print(f\"Looking up placement: {placement_id}, entry={entry}\")\n",
    "    if entry.empty:\n",
    "      return None\n",
    "    else:\n",
    "      return entry.step_time.item(), entry.sync_time.item()\n",
    "\n",
    "  def lookup_scalability(num_nodes, num_replicas, local_bsz):\n",
    "    entry = sc_df.query(f'num_nodes == {num_nodes} & num_replicas == {num_replicas} & local_bsz == {local_bsz}')\n",
    "    if entry.empty:\n",
    "      return None\n",
    "    else:\n",
    "      return entry.step_time.item(), entry.sync_time.item()\n",
    "\n",
    "  actual_sync_time, actual_step_time = [], []\n",
    "  for nnodes, nreplicas in zip(pred_num_nodes, pred_num_replicas):\n",
    "    ret = lookup_scalability(nnodes, nreplicas, atomic_bsz)\n",
    "    if ret is None:\n",
    "      ret = lookup_placement(nnodes, nreplicas, atomic_bsz)\n",
    "    if ret is not None:\n",
    "      step_time, sync_time = ret\n",
    "    else:\n",
    "      print(f\"missing {nnodes}, {nreplicas}\")\n",
    "      step_time, sync_time = 0, 0\n",
    "    actual_step_time.append(step_time)\n",
    "    actual_sync_time.append(sync_time)\n",
    "\n",
    "  actual_sync_time, actual_step_time = np.asarray(actual_sync_time), np.asarray(actual_step_time)\n",
    "\n",
    "  pred_step_time, pred_sync_time = predict_xput_model(app_perf_params, pred_num_nodes, pred_num_replicas, pred_local_bsz)\n",
    "  pred_xput, actual_xput = pred_local_bsz / pred_step_time, pred_local_bsz / actual_step_time\n",
    "  plt.semilogx(pred_num_replicas, pred_step_time, 'r', label='Model', linewidth=3, markersize=12)\n",
    "  plt.semilogx(pred_num_replicas, actual_step_time, 'X', label='Actual', markersize=12)\n",
    "  max_val = max(np.max(pred_step_time), np.max(actual_step_time))\n",
    "  plt.ylim([0, max_val*1.1])\n",
    "  plt.xlabel('Num GPUs')\n",
    "  plt.xticks(pred_num_replicas, pred_num_replicas)\n",
    "  plt.title(f\"{app_name} on {cluster_name}: bsz={atomic_bsz}\")\n",
    "  plt.legend()\n",
    "  plt.ylabel('Step time (s)')\n",
    "  plt.savefig(output_figpath, bbox_inches='tight')\n",
    "  plt.clf()\n",
    "\n",
    "  def get_error(x, y):\n",
    "    return np.abs(x - y) / y\n",
    "  step_error = get_error(pred_step_time,actual_step_time)\n",
    "  xput_error = get_error(pred_xput,actual_xput)\n",
    "  print(f\"\\tmax step_time prediction error: {np.max(step_error)*100}%, avg={np.mean(step_error)*100}%\")\n",
    "  print(f\"\\tmax xput prediction error: {np.max(xput_error)*100}%, avg={np.mean(xput_error)*100}%\")"
   ]
  },
  {
   "cell_type": "code",
   "execution_count": 13,
   "metadata": {},
   "outputs": [
    {
     "name": "stdout",
     "output_type": "stream",
     "text": [
      "cifar10 on rtx, bsz=64\n",
      "\tmax step_time prediction error: 12.500258946807552%, avg=6.026649018389286%\n",
      "\tmax xput prediction error: 14.286052502953616%, avg=6.073130770224906%\n",
      "cifar10 on dgx, bsz=64\n",
      "\tmax step_time prediction error: 16.010193582670738%, avg=5.864178603538306%\n",
      "\tmax xput prediction error: 19.062067488427285%, avg=6.3565042755761345%\n",
      "cifar10 on aws, bsz=64\n",
      "\tmax step_time prediction error: 19.13068460105479%, avg=10.537823400790595%\n",
      "\tmax xput prediction error: 23.656295971691023%, avg=11.9380174231655%\n",
      "bert on rtx, bsz=12\n",
      "\tmax step_time prediction error: 12.577304707369564%, avg=8.992684964700077%\n",
      "\tmax xput prediction error: 12.136897115899488%, avg=8.69277378132376%\n",
      "bert on dgx, bsz=12\n",
      "\tmax step_time prediction error: 7.599504923224029%, avg=2.5169568017716757%\n",
      "\tmax xput prediction error: 8.22452836092444%, avg=2.6551577126312167%\n",
      "bert on aws, bsz=12\n",
      "\tmax step_time prediction error: 32.53994599759303%, avg=10.539703312932081%\n",
      "\tmax xput prediction error: 48.23587303448051%, avg=13.704923686700338%\n",
      "deepspeech2 on rtx, bsz=10\n",
      "\tmax step_time prediction error: 67.64784648465421%, avg=22.279846789314327%\n",
      "\tmax xput prediction error: 40.35115744290005%, avg=16.773139180363238%\n",
      "deepspeech2 on dgx, bsz=10\n",
      "\tmax step_time prediction error: 36.78368925223307%, avg=13.418717921314741%\n",
      "\tmax xput prediction error: 26.891868067984976%, avg=11.778840443365732%\n",
      "deepspeech2 on aws, bsz=10\n",
      "\tmax step_time prediction error: 27.72937427599687%, avg=13.494730729491694%\n",
      "\tmax xput prediction error: 38.36880336679741%, avg=14.586086229411563%\n",
      "yolov3 on rtx, bsz=8\n",
      "\tmax step_time prediction error: 19.40936396027066%, avg=8.304404026969534%\n",
      "\tmax xput prediction error: 24.08389474765068%, avg=8.667466548805585%\n",
      "yolov3 on dgx, bsz=8\n",
      "\tmax step_time prediction error: 52.14405472295021%, avg=32.28124057884308%\n",
      "\tmax xput prediction error: 34.272817835638065%, avg=23.6092660173626%\n",
      "yolov3 on aws, bsz=8\n",
      "\tmax step_time prediction error: 37.831751677109025%, avg=18.43411044510254%\n",
      "\tmax xput prediction error: 44.499601262490074%, avg=18.54926290895706%\n",
      "imagenet on rtx, bsz=81\n",
      "\tmax step_time prediction error: 15.956027651609311%, avg=5.742659461793035%\n",
      "\tmax xput prediction error: 18.985332565512483%, avg=6.267201142964759%\n",
      "imagenet on dgx, bsz=81\n",
      "\tmax step_time prediction error: 9.471384017452229%, avg=3.0196461557959102%\n",
      "\tmax xput prediction error: 10.462309530146952%, avg=3.2323921262682997%\n",
      "imagenet on aws, bsz=81\n",
      "\tmax step_time prediction error: 10.710984014050295%, avg=5.494919370417542%\n",
      "\tmax xput prediction error: 11.995858500373384%, avg=5.870326516480833%\n"
     ]
    },
    {
     "data": {
      "text/plain": [
       "<Figure size 360x360 with 0 Axes>"
      ]
     },
     "metadata": {},
     "output_type": "display_data"
    }
   ],
   "source": [
    "cluster_configs = {}\n",
    "cluster_configs[\"rtx\"] = (np.asarray([1, 1, 1, 2, 2, 3]), np.asarray([1, 2, 4, 8, 16, 24]))\n",
    "cluster_configs[\"dgx\"] = (np.asarray([1, 1, 1, 2, 2]), np.asarray([1, 2, 4, 8, 16]))\n",
    "cluster_configs[\"aws\"] = (np.asarray([1, 1, 2, 2, 4, 8, 16]), np.asarray([1, 2, 4, 8, 16, 32, 64]))\n",
    "batch_sizes = {\n",
    "  \"cifar10\" : 64,\n",
    "  \"bert\" : 12,\n",
    "  \"deepspeech2\" : 10,\n",
    "  \"yolov3\" : 8,\n",
    "  \"imagenet\" : 81\n",
    "}\n",
    "for app_name in [\"cifar10\", \"bert\", \"deepspeech2\", \"yolov3\", \"imagenet\"]:\n",
    "  output_dir=\"../figs/tmp\"\n",
    "  for cluster_name, cluster_config in cluster_configs.items():\n",
    "    pred_num_nodes, pred_num_replicas = cluster_config\n",
    "    atomic_bsz = batch_sizes[app_name]\n",
    "    print(f\"{app_name} on {cluster_name}, bsz={atomic_bsz}\")\n",
    "    output_fig_name = os.path.join(output_dir, f\"{app_name}_{cluster_name}.png\")\n",
    "    plot_single_config(cluster_name, app_name, pred_num_nodes, pred_num_replicas, atomic_bsz, output_fig_name)"
   ]
  },
  {
   "cell_type": "code",
   "execution_count": 14,
   "metadata": {},
   "outputs": [
    {
     "name": "stdout",
     "output_type": "stream",
     "text": [
      "\tmax step_time prediction error: 19.40936396027066%, avg=8.304404026969534%\n",
      "\tmax xput prediction error: 24.08389474765068%, avg=8.667466548805585%\n"
     ]
    },
    {
     "data": {
      "text/plain": [
       "<Figure size 360x360 with 0 Axes>"
      ]
     },
     "metadata": {},
     "output_type": "display_data"
    }
   ],
   "source": [
    "figname=\"../figs/tmp/yolov3_rtx_8\"\n",
    "pred_num_nodes, pred_num_replicas = cluster_configs[\"rtx\"]\n",
    "atomic_bsz = batch_sizes[\"yolov3\"]\n",
    "plot_single_config(\"rtx\", \"yolov3\", pred_num_nodes, pred_num_replicas, 8, figname)"
   ]
  },
  {
   "cell_type": "code",
   "execution_count": 15,
   "metadata": {},
   "outputs": [],
   "source": [
    "def eval_extrapolation(cluster_name, app_name, limit_nodes, limit_replicas, eval_nodes, eval_replicas, eval_bsz):\n",
    "  num_nodes, num_replicas, local_bsz, step_time, sync_time = get_performance_profiles(cluster_name, app_name)\n",
    "  selector = (num_nodes <= limit_nodes) & (num_replicas <= limit_replicas)\n",
    "  fit_vals = (num_nodes[selector], num_replicas[selector], local_bsz[selector], step_time[selector], sync_time[selector])\n",
    "\n",
    "  app = APPLICATIONS[cluster_name][app_name]\n",
    "  sc_df = app.scalability\n",
    "  pl_df = app.placements\n",
    "  \n",
    "  def lookup_placement(num_nodes, num_replicas, local_bsz):\n",
    "    num_replicas_per_node = int(num_replicas / num_nodes)\n",
    "    placement_id = int(\"\".join([str(num_replicas_per_node)]*num_nodes))\n",
    "    entry = pl_df.query(f'placement == {placement_id} & local_bsz == {local_bsz}')\n",
    "    # print(f\"Looking up placement: {placement_id}, entry={entry}\")\n",
    "    if entry.empty:\n",
    "      return None\n",
    "    else:\n",
    "      return entry.step_time.item(), entry.sync_time.item()\n",
    "\n",
    "  def lookup_scalability(num_nodes, num_replicas, local_bsz):\n",
    "    entry = sc_df.query(f'num_nodes == {num_nodes} & num_replicas == {num_replicas} & local_bsz == {local_bsz}')\n",
    "    if entry.empty:\n",
    "      return None\n",
    "    else:\n",
    "      return entry.step_time.item(), entry.sync_time.item()\n",
    "\n",
    "  # lookup eval configs for step_time, sync_time\n",
    "  actual_step_time, actual_sync_time = [], []\n",
    "  for nodes, replicas, bsz in zip(eval_nodes, eval_replicas, eval_bsz):\n",
    "    ret = lookup_scalability(nodes, replicas, bsz)\n",
    "    if ret is None:\n",
    "      ret = lookup_placement(nodes, replicas, bsz)\n",
    "    if ret is not None:\n",
    "      step_time, sync_time = ret\n",
    "    else:\n",
    "      print(f\"missing {nodes}, {replicas}\")\n",
    "      step_time, sync_time = 0, 0\n",
    "    actual_step_time.append(step_time)\n",
    "    actual_sync_time.append(sync_time)\n",
    "  actual_sync_time, actual_step_time = np.asarray(actual_sync_time), np.asarray(actual_step_time)\n",
    "\n",
    "  test_vals = (eval_nodes, eval_replicas, eval_bsz, actual_step_time, actual_sync_time)\n",
    "\n",
    "  # build xput model on fit_vals\n",
    "  app_perf_params = build_xput_model(*fit_vals)\n",
    "\n",
    "  # predict step_time and sync time on test_vals\n",
    "  pred_step_time, pred_sync_time = predict_xput_model(app_perf_params, test_vals[0], test_vals[1], test_vals[2])\n",
    "\n",
    "  # compute errors\n",
    "  def compute_relative_error(x, y):\n",
    "    return (x - y) / y\n",
    "  pred_step_error, pred_sync_error = compute_relative_error(pred_step_time, test_vals[3]), compute_relative_error(pred_sync_time, test_vals[4])\n",
    "  \n",
    "  return pred_step_error\n"
   ]
  },
  {
   "cell_type": "code",
   "execution_count": 20,
   "metadata": {},
   "outputs": [
    {
     "name": "stdout",
     "output_type": "stream",
     "text": [
      "Eval: imagenet\n",
      "Eval: bert\n",
      "Eval: cifar10\n",
      "Eval: deepspeech2\n",
      "Eval: yolov3\n"
     ]
    },
    {
     "data": {
      "text/plain": [
       "<Figure size 360x360 with 0 Axes>"
      ]
     },
     "metadata": {},
     "output_type": "display_data"
    }
   ],
   "source": [
    "limit_nodes, limit_replicas = [3, 4, 16], [12, 8, 64]\n",
    "cluster_name = \"aws\"\n",
    "fig_prefix = \"../figs/tmp/extrap-aws-\"\n",
    "cluster_nnodes, cluster_nreplicas = cluster_configs[cluster_name]\n",
    "for app_name in [\"imagenet\", \"bert\", \"cifar10\", \"deepspeech2\", \"yolov3\"]:\n",
    "  print(f\"Eval: {app_name}\")\n",
    "  local_bsz = np.asarray([batch_sizes[app_name]]*len(cluster_nnodes))\n",
    "  for limit_node, limit_replica in zip(limit_nodes, limit_replicas):\n",
    "    step_error = eval_extrapolation(cluster_name, app_name, limit_node, limit_replica, cluster_nnodes, cluster_nreplicas, local_bsz)\n",
    "    plt.semilogx(cluster_nreplicas, 100*step_error, label=f\"n={limit_node}, r={limit_replica}\")\n",
    "  plt.title(f\"Step-time prediction error, model={app_name}\")\n",
    "  plt.ylabel(\"relative error(%)\")\n",
    "  plt.xlabel(\"num replicas\")\n",
    "  plt.legend()\n",
    "  plt.ylim([-50, 50])\n",
    "  plt.axhline(y=0, linewidth=0.8)\n",
    "  plt.xticks(cluster_nreplicas, cluster_nreplicas)\n",
    "  plt.savefig(f\"{fig_prefix}{app_name}.png\")\n",
    "  plt.clf()"
   ]
  }
 ],
 "metadata": {
  "interpreter": {
   "hash": "d4abf59f5ceb8fbf399ae7f48011e6b4eab744d824ca5c273db62a1644ea7ceb"
  },
  "kernelspec": {
   "display_name": "Python 3.8.12 ('opt')",
   "language": "python",
   "name": "python3"
  },
  "language_info": {
   "codemirror_mode": {
    "name": "ipython",
    "version": 3
   },
   "file_extension": ".py",
   "mimetype": "text/x-python",
   "name": "python",
   "nbconvert_exporter": "python",
   "pygments_lexer": "ipython3",
   "version": "3.8.12"
  },
  "orig_nbformat": 4
 },
 "nbformat": 4,
 "nbformat_minor": 2
}
